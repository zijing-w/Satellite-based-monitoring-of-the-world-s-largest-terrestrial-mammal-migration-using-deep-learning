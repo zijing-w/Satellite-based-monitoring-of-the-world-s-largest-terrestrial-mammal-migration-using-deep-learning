{
 "cells": [
  {
   "cell_type": "markdown",
   "metadata": {
    "id": "oPHJmiljrCZI"
   },
   "source": [
    "<h1> Wildebeest Detection using U-Net from VHR satellite images</h1>\n",
    "Code Author: Zijing Wu \n",
    "\n",
    "***The code is developed for research project purposes.***"
   ]
  },
  {
   "cell_type": "code",
   "execution_count": null,
   "metadata": {
    "colab": {
     "base_uri": "https://localhost:8080/"
    },
    "executionInfo": {
     "elapsed": 13902,
     "status": "ok",
     "timestamp": 1658405863366,
     "user": {
      "displayName": "Juli Baker",
      "userId": "12694382704677250833"
     },
     "user_tz": -480
    },
    "id": "vE4C_TmqqIHb",
    "outputId": "cf6ef565-3893-4feb-94ff-77c36e128c23"
   },
   "outputs": [
    {
     "name": "stdout",
     "output_type": "stream",
     "text": [
      "Drive already mounted at /content/drive; to attempt to forcibly remount, call drive.mount(\"/content/drive\", force_remount=True).\n",
      "Looking in indexes: https://pypi.org/simple, https://us-python.pkg.dev/colab-wheels/public/simple/\n",
      "Requirement already satisfied: rasterio in /usr/local/lib/python3.7/dist-packages (1.2.10)\n",
      "Requirement already satisfied: attrs in /usr/local/lib/python3.7/dist-packages (from rasterio) (21.4.0)\n",
      "Requirement already satisfied: affine in /usr/local/lib/python3.7/dist-packages (from rasterio) (2.3.1)\n",
      "Requirement already satisfied: setuptools in /usr/local/lib/python3.7/dist-packages (from rasterio) (57.4.0)\n",
      "Requirement already satisfied: click-plugins in /usr/local/lib/python3.7/dist-packages (from rasterio) (1.1.1)\n",
      "Requirement already satisfied: cligj>=0.5 in /usr/local/lib/python3.7/dist-packages (from rasterio) (0.7.2)\n",
      "Requirement already satisfied: certifi in /usr/local/lib/python3.7/dist-packages (from rasterio) (2022.6.15)\n",
      "Requirement already satisfied: snuggs>=1.4.1 in /usr/local/lib/python3.7/dist-packages (from rasterio) (1.4.7)\n",
      "Requirement already satisfied: click>=4.0 in /usr/local/lib/python3.7/dist-packages (from rasterio) (7.1.2)\n",
      "Requirement already satisfied: numpy in /usr/local/lib/python3.7/dist-packages (from rasterio) (1.21.6)\n",
      "Requirement already satisfied: pyparsing>=2.1.6 in /usr/local/lib/python3.7/dist-packages (from snuggs>=1.4.1->rasterio) (3.0.9)\n",
      "Looking in indexes: https://pypi.org/simple, https://us-python.pkg.dev/colab-wheels/public/simple/\n",
      "Collecting geopandas\n",
      "  Downloading geopandas-0.10.2-py2.py3-none-any.whl (1.0 MB)\n",
      "\u001b[K     |████████████████████████████████| 1.0 MB 5.1 MB/s \n",
      "\u001b[?25hCollecting fiona>=1.8\n",
      "  Downloading Fiona-1.8.21-cp37-cp37m-manylinux2014_x86_64.whl (16.7 MB)\n",
      "\u001b[K     |████████████████████████████████| 16.7 MB 308 kB/s \n",
      "\u001b[?25hRequirement already satisfied: shapely>=1.6 in /usr/local/lib/python3.7/dist-packages (from geopandas) (1.8.2)\n",
      "Requirement already satisfied: pandas>=0.25.0 in /usr/local/lib/python3.7/dist-packages (from geopandas) (1.3.5)\n",
      "Collecting pyproj>=2.2.0\n",
      "  Downloading pyproj-3.2.1-cp37-cp37m-manylinux2010_x86_64.whl (6.3 MB)\n",
      "\u001b[K     |████████████████████████████████| 6.3 MB 27.9 MB/s \n",
      "\u001b[?25hRequirement already satisfied: attrs>=17 in /usr/local/lib/python3.7/dist-packages (from fiona>=1.8->geopandas) (21.4.0)\n",
      "Requirement already satisfied: click>=4.0 in /usr/local/lib/python3.7/dist-packages (from fiona>=1.8->geopandas) (7.1.2)\n",
      "Requirement already satisfied: cligj>=0.5 in /usr/local/lib/python3.7/dist-packages (from fiona>=1.8->geopandas) (0.7.2)\n",
      "Requirement already satisfied: setuptools in /usr/local/lib/python3.7/dist-packages (from fiona>=1.8->geopandas) (57.4.0)\n",
      "Collecting munch\n",
      "  Downloading munch-2.5.0-py2.py3-none-any.whl (10 kB)\n",
      "Requirement already satisfied: certifi in /usr/local/lib/python3.7/dist-packages (from fiona>=1.8->geopandas) (2022.6.15)\n",
      "Requirement already satisfied: six>=1.7 in /usr/local/lib/python3.7/dist-packages (from fiona>=1.8->geopandas) (1.15.0)\n",
      "Requirement already satisfied: click-plugins>=1.0 in /usr/local/lib/python3.7/dist-packages (from fiona>=1.8->geopandas) (1.1.1)\n",
      "Requirement already satisfied: python-dateutil>=2.7.3 in /usr/local/lib/python3.7/dist-packages (from pandas>=0.25.0->geopandas) (2.8.2)\n",
      "Requirement already satisfied: numpy>=1.17.3 in /usr/local/lib/python3.7/dist-packages (from pandas>=0.25.0->geopandas) (1.21.6)\n",
      "Requirement already satisfied: pytz>=2017.3 in /usr/local/lib/python3.7/dist-packages (from pandas>=0.25.0->geopandas) (2022.1)\n",
      "Installing collected packages: munch, pyproj, fiona, geopandas\n",
      "Successfully installed fiona-1.8.21 geopandas-0.10.2 munch-2.5.0 pyproj-3.2.1\n"
     ]
    }
   ],
   "source": [
    "#If you are using Google Colaboratory to run this code, please upload the whole folder to your Google Drive, and run this cell install the requirements.\n",
    "\n",
    "#connect to the google drive if you use Google Colaboratory\n",
    "from google.colab import drive\n",
    "drive.mount('/content/drive')\n",
    "\n",
    "#install the libraries\n",
    "!pip install rasterio\n",
    "!pip install geopandas"
   ]
  },
  {
   "cell_type": "markdown",
   "metadata": {
    "id": "nBIMPUg3sUIj"
   },
   "source": [
    "#Preparation"
   ]
  },
  {
   "cell_type": "markdown",
   "metadata": {
    "id": "HGc75apDskid"
   },
   "source": [
    "##  Load libraries"
   ]
  },
  {
   "cell_type": "code",
   "execution_count": null,
   "metadata": {
    "colab": {
     "base_uri": "https://localhost:8080/"
    },
    "executionInfo": {
     "elapsed": 10178,
     "status": "ok",
     "timestamp": 1658405886748,
     "user": {
      "displayName": "Juli Baker",
      "userId": "12694382704677250833"
     },
     "user_tz": -480
    },
    "id": "e03af125",
    "outputId": "3dd1ce4b-9976-45b3-f852-a3f80a4f4e12"
   },
   "outputs": [
    {
     "name": "stdout",
     "output_type": "stream",
     "text": [
      "Looking in indexes: https://pypi.org/simple, https://us-python.pkg.dev/colab-wheels/public/simple/\n",
      "Collecting ipython-autotime\n",
      "  Downloading ipython_autotime-0.3.1-py2.py3-none-any.whl (6.8 kB)\n",
      "Requirement already satisfied: ipython in /usr/local/lib/python3.7/dist-packages (from ipython-autotime) (5.5.0)\n",
      "Requirement already satisfied: prompt-toolkit<2.0.0,>=1.0.4 in /usr/local/lib/python3.7/dist-packages (from ipython->ipython-autotime) (1.0.18)\n",
      "Requirement already satisfied: traitlets>=4.2 in /usr/local/lib/python3.7/dist-packages (from ipython->ipython-autotime) (5.1.1)\n",
      "Requirement already satisfied: pexpect in /usr/local/lib/python3.7/dist-packages (from ipython->ipython-autotime) (4.8.0)\n",
      "Requirement already satisfied: decorator in /usr/local/lib/python3.7/dist-packages (from ipython->ipython-autotime) (4.4.2)\n",
      "Requirement already satisfied: setuptools>=18.5 in /usr/local/lib/python3.7/dist-packages (from ipython->ipython-autotime) (57.4.0)\n",
      "Requirement already satisfied: pygments in /usr/local/lib/python3.7/dist-packages (from ipython->ipython-autotime) (2.6.1)\n",
      "Requirement already satisfied: pickleshare in /usr/local/lib/python3.7/dist-packages (from ipython->ipython-autotime) (0.7.5)\n",
      "Requirement already satisfied: simplegeneric>0.8 in /usr/local/lib/python3.7/dist-packages (from ipython->ipython-autotime) (0.8.1)\n",
      "Requirement already satisfied: wcwidth in /usr/local/lib/python3.7/dist-packages (from prompt-toolkit<2.0.0,>=1.0.4->ipython->ipython-autotime) (0.2.5)\n",
      "Requirement already satisfied: six>=1.9.0 in /usr/local/lib/python3.7/dist-packages (from prompt-toolkit<2.0.0,>=1.0.4->ipython->ipython-autotime) (1.15.0)\n",
      "Requirement already satisfied: ptyprocess>=0.5 in /usr/local/lib/python3.7/dist-packages (from pexpect->ipython->ipython-autotime) (0.7.0)\n",
      "Installing collected packages: ipython-autotime\n",
      "Successfully installed ipython-autotime-0.3.1\n",
      "time: 245 µs (started: 2022-07-21 12:18:06 +00:00)\n"
     ]
    }
   ],
   "source": [
    "import os\n",
    "from osgeo import gdal\n",
    "\n",
    "import rasterio\n",
    "from rasterio import windows\n",
    "from rasterio.windows import Window\n",
    "\n",
    "from rasterio.plot import reshape_as_image\n",
    "import rasterio.mask\n",
    "from rasterio.features import rasterize\n",
    "\n",
    "import pandas as pd\n",
    "import geopandas as gpd\n",
    "from shapely.geometry import mapping, Point, Polygon\n",
    "from shapely.ops import cascaded_union\n",
    "\n",
    "import numpy as np\n",
    "import cv2\n",
    "import matplotlib.pyplot as plt\n",
    "\n",
    "!pip install ipython-autotime\n",
    "%load_ext autotime"
   ]
  },
  {
   "cell_type": "markdown",
   "metadata": {
    "id": "k2oCYdSDryNO"
   },
   "source": [
    "## Define functions"
   ]
  },
  {
   "cell_type": "code",
   "execution_count": null,
   "metadata": {
    "colab": {
     "base_uri": "https://localhost:8080/"
    },
    "executionInfo": {
     "elapsed": 474,
     "status": "ok",
     "timestamp": 1658405957098,
     "user": {
      "displayName": "Juli Baker",
      "userId": "12694382704677250833"
     },
     "user_tz": -480
    },
    "id": "0f31a8e1",
    "outputId": "4dedd338-6e1d-4705-dff6-a459393ababd"
   },
   "outputs": [
    {
     "name": "stdout",
     "output_type": "stream",
     "text": [
      "time: 32.5 ms (started: 2022-07-21 12:19:16 +00:00)\n"
     ]
    }
   ],
   "source": [
    "def generate_mask(raster_path, shape_path, output_path, file_name):\n",
    "    \n",
    "    \"\"\"Function that generates a binary mask from a vector file (shp or geojson)\n",
    "    \n",
    "    raster_path = path to the .tif;\n",
    "\n",
    "    shape_path = path to the shapefile or GeoJson.\n",
    "\n",
    "    output_path = Path to save the binary mask.\n",
    "\n",
    "    file_name = Name of the file.\n",
    "    \n",
    "    \"\"\"\n",
    "    \n",
    "    #load raster\n",
    "    \n",
    "    with rasterio.open(raster_path, \"r\") as src:\n",
    "        raster_img = src.read()\n",
    "        raster_meta = src.meta\n",
    "    \n",
    "    #load o shapefile ou GeoJson\n",
    "    train_df = gpd.read_file(shape_path)\n",
    "    \n",
    "        \n",
    "    #Function that generates the mask\n",
    "    def poly_from_utm(polygon, transform):\n",
    "        poly_pts = []\n",
    "\n",
    "        poly = cascaded_union(polygon)\n",
    "        for i in np.array(poly.exterior.coords):\n",
    "\n",
    "            poly_pts.append(~transform * tuple(i))\n",
    "\n",
    "        new_poly = Polygon(poly_pts)\n",
    "        return new_poly\n",
    "    \n",
    "    \n",
    "    poly_shp = []\n",
    "    im_size = (src.meta['height'], src.meta['width'])\n",
    "    for num, row in train_df.iterrows():\n",
    "        if row['geometry'].geom_type == 'Polygon':\n",
    "            poly = poly_from_utm(row['geometry'], src.meta['transform'])\n",
    "            poly_shp.append(poly)\n",
    "        else:\n",
    "            for p in row['geometry']:\n",
    "                poly = poly_from_utm(p, src.meta['transform'])\n",
    "                poly_shp.append(poly)\n",
    "\n",
    "    mask = rasterize(shapes=poly_shp,\n",
    "                     out_shape=im_size)\n",
    "    \n",
    "    #Salve\n",
    "    mask = mask.astype(\"uint8\")\n",
    "    \n",
    "    bin_mask_meta = src.meta.copy()\n",
    "    bin_mask_meta.update({'count': 1})\n",
    "    os.chdir(output_path)\n",
    "    with rasterio.open(file_name, 'w', **bin_mask_meta) as dst:\n",
    "        dst.write(mask, 1)"
   ]
  },
  {
   "cell_type": "code",
   "execution_count": null,
   "metadata": {
    "colab": {
     "base_uri": "https://localhost:8080/"
    },
    "executionInfo": {
     "elapsed": 480,
     "status": "ok",
     "timestamp": 1658406015682,
     "user": {
      "displayName": "Juli Baker",
      "userId": "12694382704677250833"
     },
     "user_tz": -480
    },
    "id": "3d14f73a",
    "outputId": "9bdb6b69-ef9a-42b7-af54-6d05702295b5"
   },
   "outputs": [
    {
     "name": "stdout",
     "output_type": "stream",
     "text": [
      "time: 11.5 ms (started: 2022-07-21 12:20:15 +00:00)\n"
     ]
    }
   ],
   "source": [
    "def generate_empty_mask(raster_path, output_path, file_name):\n",
    "    \n",
    "    \"\"\"Function that generates an empty binary mask (all 0) from a vector file (shp or geojson). Used for patches where there is no target object.\n",
    "    \n",
    "    raster_path = path to the .tif;\n",
    "\n",
    "    shape_path = path to the shapefile or GeoJson.\n",
    "\n",
    "    output_path = Path to save the binary mask.\n",
    "\n",
    "    file_name = Name of the file.\n",
    "    \n",
    "    \"\"\"\n",
    "    \n",
    "    #load raster\n",
    "    \n",
    "    with rasterio.open(raster_path, \"r\") as src:\n",
    "        raster_img = src.read()\n",
    "        raster_meta = src.meta\n",
    "    im_size = (src.meta['height'], src.meta['width'])\n",
    "    \n",
    "    mask = np.zeros(im_size)\n",
    "    \n",
    "    #Save\n",
    "    mask = mask.astype(\"uint8\")\n",
    "    \n",
    "    bin_mask_meta = src.meta.copy()\n",
    "    bin_mask_meta.update({'count': 1})\n",
    "    os.chdir(output_path)\n",
    "    with rasterio.open(file_name, 'w', **bin_mask_meta) as dst:\n",
    "        dst.write(mask, 1)"
   ]
  },
  {
   "cell_type": "markdown",
   "metadata": {
    "id": "T0Y3h1rfs8Bp"
   },
   "source": [
    "## Define the data path"
   ]
  },
  {
   "cell_type": "code",
   "execution_count": null,
   "metadata": {
    "colab": {
     "base_uri": "https://localhost:8080/"
    },
    "executionInfo": {
     "elapsed": 532,
     "status": "ok",
     "timestamp": 1658407248798,
     "user": {
      "displayName": "Juli Baker",
      "userId": "12694382704677250833"
     },
     "user_tz": -480
    },
    "id": "08fb6cfd",
    "outputId": "8eeb2e8d-0a62-498c-e972-22d4f1e2c3d7"
   },
   "outputs": [
    {
     "name": "stdout",
     "output_type": "stream",
     "text": [
      "time: 3.24 ms (started: 2022-07-21 12:40:48 +00:00)\n"
     ]
    }
   ],
   "source": [
    "#Change the path to your directory\n",
    "\n",
    "#For Google Colaboratory users, update the directory:\n",
    "Data_folder = \"/content/drive/MyDrive/Colab/Wildebeest-UNet/SampleData/1_Data_preparation/\"\n",
    "#For Jupyter Notebook users, update the directory:\n",
    "#Data_folder = \"Wildebeest-UNet/SampleData/1_Data_preparation\"\n",
    "\n",
    "IMAGE_PATH = os.path.join(Data_folder, \"image\")\n",
    "ROI_PATH = os.path.join(Data_folder, \"roi\")\n",
    "MASK_PATH = os.path.join(Data_folder, \"mask\")"
   ]
  },
  {
   "cell_type": "markdown",
   "metadata": {
    "id": "KVfpvPevyv_W"
   },
   "source": [
    "# Processing"
   ]
  },
  {
   "cell_type": "markdown",
   "metadata": {
    "id": "7uR1Am8Hym2v"
   },
   "source": [
    "## Create the mask images from the source image and annotation AOIs"
   ]
  },
  {
   "cell_type": "code",
   "execution_count": null,
   "metadata": {
    "colab": {
     "base_uri": "https://localhost:8080/"
    },
    "executionInfo": {
     "elapsed": 1133,
     "status": "ok",
     "timestamp": 1658407255210,
     "user": {
      "displayName": "Juli Baker",
      "userId": "12694382704677250833"
     },
     "user_tz": -480
    },
    "id": "b94c2ea8",
    "outputId": "dd66f0aa-c7cc-4c07-c35e-8a77de052bc5"
   },
   "outputs": [
    {
     "name": "stdout",
     "output_type": "stream",
     "text": [
      "TR_10\n",
      "TR29\n",
      "Generated FP mask image TR_10\n",
      "TR_29\n",
      "TR29\n",
      "Generated FP mask image TR_29\n",
      "time: 729 ms (started: 2022-07-21 12:40:54 +00:00)\n"
     ]
    }
   ],
   "source": [
    "for f in sorted(os.listdir(IMAGE_PATH)):\n",
    "    #print(f)\n",
    "    fdir = os.path.join(IMAGE_PATH, f)\n",
    "    image_name, ext = os.path.splitext(f)\n",
    "    if ext.lower() == \".tif\":\n",
    "        ID = image_name\n",
    "        print(ID)\n",
    "\n",
    "        match_status = 0\n",
    "        for f in sorted(os.listdir(ROI_PATH)):\n",
    "            roi_dir = os.path.join(ROI_PATH, f)\n",
    "            mask_name, ext = os.path.splitext(f)\n",
    "            if ext.lower() == \".shp\":\n",
    "                roi_ID = mask_name\n",
    "                print(roi_ID)\n",
    "                \n",
    "\n",
    "                if roi_ID == ID:\n",
    "                    generate_mask(fdir, roi_dir, MASK_PATH, ID+'.tif')\n",
    "                    print(\"Generated FN mask image \" + ID)\n",
    "                    match_status = 1\n",
    "                    \n",
    "        if match_status == 0:\n",
    "            \n",
    "            generate_empty_mask(fdir, MASK_PATH, ID+'.tif')\n",
    "            print(\"Generated FP mask image \" + ID)               "
   ]
  },
  {
   "cell_type": "markdown",
   "metadata": {
    "id": "P2a6avrI1PaD"
   },
   "source": [
    "# References"
   ]
  },
  {
   "cell_type": "markdown",
   "metadata": {
    "id": "jkMcPCpqrZ_I"
   },
   "source": [
    "\n",
    "***References:***\n",
    "\n",
    "https://lpsmlgeo.github.io/2019-09-22-binary_mask/"
   ]
  }
 ],
 "metadata": {
  "colab": {
   "collapsed_sections": [],
   "name": "1_Preprocessing_AOI_to_Mask.ipynb",
   "provenance": []
  },
  "kernelspec": {
   "display_name": "Python 3",
   "language": "python",
   "name": "python3"
  },
  "language_info": {
   "codemirror_mode": {
    "name": "ipython",
    "version": 3
   },
   "file_extension": ".py",
   "mimetype": "text/x-python",
   "name": "python",
   "nbconvert_exporter": "python",
   "pygments_lexer": "ipython3",
   "version": "3.7.3"
  }
 },
 "nbformat": 4,
 "nbformat_minor": 5
}
